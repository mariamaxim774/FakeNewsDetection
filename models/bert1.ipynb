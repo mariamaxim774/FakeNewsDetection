{
 "cells": [
  {
   "cell_type": "code",
   "id": "initial_id",
   "metadata": {
    "collapsed": true,
    "ExecuteTime": {
     "end_time": "2025-05-09T16:32:48.849917Z",
     "start_time": "2025-05-09T16:32:48.843916Z"
    }
   },
   "source": [
    "import torch\n",
    "import os\n",
    "\n",
    "device = torch.device('cuda' if torch.cuda.is_available() else 'cpu')\n",
    "\n",
    "print(f'Utilizez: {device}')\n"
   ],
   "outputs": [
    {
     "name": "stdout",
     "output_type": "stream",
     "text": [
      "Utilizez: cuda\n"
     ]
    }
   ],
   "execution_count": 2
  },
  {
   "metadata": {
    "ExecuteTime": {
     "end_time": "2025-05-09T16:32:48.958917Z",
     "start_time": "2025-05-09T16:32:48.943917Z"
    }
   },
   "cell_type": "code",
   "source": [
    "import torch\n",
    "\n",
    "\n",
    "if torch.cuda.is_available():\n",
    "\n",
    "    device = torch.device(\"cuda\")\n",
    "\n",
    "    print('There are %d GPU(s) available.' % torch.cuda.device_count())\n",
    "\n",
    "    print('We will use the GPU:', torch.cuda.get_device_name(0))\n",
    "\n",
    "else:\n",
    "    print('No GPU available, using the CPU instead.')\n",
    "    device = torch.device(\"cpu\")"
   ],
   "id": "17174f329ddc2e82",
   "outputs": [
    {
     "name": "stdout",
     "output_type": "stream",
     "text": [
      "There are 1 GPU(s) available.\n",
      "We will use the GPU: NVIDIA GeForce RTX 3050 Laptop GPU\n"
     ]
    }
   ],
   "execution_count": 3
  },
  {
   "metadata": {
    "ExecuteTime": {
     "end_time": "2025-05-09T16:32:50.267645Z",
     "start_time": "2025-05-09T16:32:49.007799Z"
    }
   },
   "cell_type": "code",
   "source": [
    "import pandas as pd\n",
    "df_fake= pd.read_csv(\"../data/Fake.csv\")\n",
    "df_true= pd.read_csv(\"../data/True.csv\")\n",
    "\n",
    "\n",
    "\n",
    "df_fake[\"label\"] = 0\n",
    "df_true[\"label\"] = 1\n",
    "\n"
   ],
   "id": "744bb4b960e64967",
   "outputs": [],
   "execution_count": 4
  },
  {
   "metadata": {
    "ExecuteTime": {
     "end_time": "2025-05-09T16:32:59.530933Z",
     "start_time": "2025-05-09T16:32:50.273646Z"
    }
   },
   "cell_type": "code",
   "source": [
    "import re\n",
    "def remove_city_newsletter(text):\n",
    "    return re.sub(r\"^[A-Za-z/,\\s]+(?:\\([A-Za-z]+\\))?\\s-\\s\", '', text)\n",
    "\n",
    "def remove_html_caracters(text):\n",
    "    html_special_chars_pattern = r'&[a-zA-Z0-9#]+;|<|>'\n",
    "    return re.sub(html_special_chars_pattern,'',text)\n",
    "\n",
    "def remove_links(text):\n",
    "    return re.sub(r'https?://\\S+|www\\.\\S+', '', text)\n",
    "\n",
    "def remove_hastags(text):\n",
    "    return re.sub(r'#\\S+', '', text)\n",
    "\n",
    "def remove_image(text):\n",
    "     return re.sub(r'\\b(Featured|Photo\\sby|Image)\\w*\\b.*', '', text)\n",
    "\n",
    "def remove_coments(text):\n",
    "    regex_date_username = r\"((january|february|march|april|may|june|july|august|september|october|november|december)\\s\\d{1,2},\\s\\d{4}).*?@(?!realDonaldTrump)\\w+\"\n",
    "    return re.sub(regex_date_username,'', text, flags=re.IGNORECASE) #eliminarea datelor\n",
    "def lower_text(text):\n",
    "    return text.lower()\n",
    "\n",
    "df_fake['text'] = df_fake['text'].apply(remove_hastags)\n",
    "df_fake['text'] = df_fake['text'].apply(remove_html_caracters)\n",
    "df_fake['text'] = df_fake['text'].apply(remove_links)\n",
    "df_fake['text'] = df_fake['text'].apply(remove_image)\n",
    "df_fake['text'] = df_fake['text'].apply(remove_coments)\n",
    "df_fake['text'] = df_fake['text'].apply(lower_text)\n",
    "\n",
    "\n",
    "df_true['text'] = df_true['text'].apply(remove_city_newsletter)\n",
    "df_true['text'] = df_true['text'].apply(remove_hastags)\n",
    "df_true['text'] = df_true['text'].apply(remove_html_caracters)\n",
    "df_true['text'] = df_true['text'].apply(remove_links)\n",
    "df_true['text'] = df_true['text'].apply(lower_text)\n"
   ],
   "id": "b176f276109811cb",
   "outputs": [],
   "execution_count": 5
  },
  {
   "metadata": {
    "ExecuteTime": {
     "end_time": "2025-05-09T16:33:01.006091Z",
     "start_time": "2025-05-09T16:32:59.562931Z"
    }
   },
   "cell_type": "code",
   "source": [
    "import pandas as pd\n",
    "from datasets import DatasetDict, Dataset\n",
    "\n",
    "frames=[df_true,df_fake]\n",
    "df=pd.concat(frames)\n",
    "shuffled_df = df.sample(frac=1).reset_index(drop=True)\n",
    "shuffled_df = shuffled_df.drop_duplicates()\n",
    "shuffled_selected = shuffled_df[['text', 'label']]\n",
    "\n",
    "news_text=shuffled_selected\n",
    "train_frac = 0.7\n",
    "valid_frac = 0.15\n",
    "test_frac = 0.15\n",
    "#\n",
    "train_size = int(train_frac * len(news_text))\n",
    "valid_size = int(valid_frac * len(news_text))\n",
    "#\n",
    "# create train, validation, and test datasets\n",
    "train_df = news_text[:train_size]\n",
    "valid_df = news_text[train_size:train_size + valid_size]\n",
    "test_df = news_text[train_size + valid_size:]\n",
    "#\n",
    "train_ds = Dataset.from_pandas(train_df)\n",
    "valid_ds = Dataset.from_pandas(valid_df)\n",
    "test_ds = Dataset.from_pandas(test_df)\n",
    "dataset_dict = DatasetDict({\n",
    "    'train': train_ds,\n",
    "    'validation': valid_ds,\n",
    "    'test': test_ds\n",
    "})\n",
    "\n",
    "\n",
    "print(dataset_dict)"
   ],
   "id": "1dc704880ed0903c",
   "outputs": [
    {
     "name": "stderr",
     "output_type": "stream",
     "text": [
      "D:\\github\\AI-examples\\AI_examples\\.venv\\lib\\site-packages\\tqdm\\auto.py:21: TqdmWarning: IProgress not found. Please update jupyter and ipywidgets. See https://ipywidgets.readthedocs.io/en/stable/user_install.html\n",
      "  from .autonotebook import tqdm as notebook_tqdm\n"
     ]
    },
    {
     "name": "stdout",
     "output_type": "stream",
     "text": [
      "DatasetDict({\n",
      "    train: Dataset({\n",
      "        features: ['title', 'text', 'subject', 'date', 'label', '__index_level_0__'],\n",
      "        num_rows: 31282\n",
      "    })\n",
      "    validation: Dataset({\n",
      "        features: ['title', 'text', 'subject', 'date', 'label', '__index_level_0__'],\n",
      "        num_rows: 6703\n",
      "    })\n",
      "    test: Dataset({\n",
      "        features: ['title', 'text', 'subject', 'date', 'label', '__index_level_0__'],\n",
      "        num_rows: 6704\n",
      "    })\n",
      "})\n"
     ]
    }
   ],
   "execution_count": 6
  },
  {
   "metadata": {
    "ExecuteTime": {
     "end_time": "2025-05-09T16:33:03.285299Z",
     "start_time": "2025-05-09T16:33:01.037093Z"
    }
   },
   "cell_type": "code",
   "source": [
    "from transformers import AutoTokenizer, AutoModelForSequenceClassification\n",
    "model_path=\"google-bert/bert-base-uncased\"\n",
    "tokenizer=AutoTokenizer.from_pretrained(model_path)\n",
    "id2label={0:\"fake\",1:\"true\"}\n",
    "label2id={\"fake\":0,\"true\":1}\n",
    "model=AutoModelForSequenceClassification.from_pretrained(model_path,num_labels=2,id2label=id2label,label2id=label2id)"
   ],
   "id": "60e7093d839c85b9",
   "outputs": [
    {
     "name": "stderr",
     "output_type": "stream",
     "text": [
      "D:\\github\\AI-examples\\AI_examples\\.venv\\lib\\site-packages\\huggingface_hub\\file_download.py:896: FutureWarning: `resume_download` is deprecated and will be removed in version 1.0.0. Downloads always resume when possible. If you want to force a new download, use `force_download=True`.\n",
      "  warnings.warn(\n",
      "Some weights of BertForSequenceClassification were not initialized from the model checkpoint at google-bert/bert-base-uncased and are newly initialized: ['classifier.bias', 'classifier.weight']\n",
      "You should probably TRAIN this model on a down-stream task to be able to use it for predictions and inference.\n"
     ]
    }
   ],
   "execution_count": 7
  },
  {
   "metadata": {
    "ExecuteTime": {
     "end_time": "2025-05-09T16:33:03.332303Z",
     "start_time": "2025-05-09T16:33:03.318305Z"
    }
   },
   "cell_type": "code",
   "source": [
    "for name,param in model.base_model.named_parameters():\n",
    "    param.requires_grad=False\n",
    "for name,param in model.base_model.named_parameters():\n",
    "    if \"pooler\" in name:\n",
    "        param.requires_grad=True"
   ],
   "id": "60a6ae5c38430924",
   "outputs": [],
   "execution_count": 8
  },
  {
   "metadata": {
    "ExecuteTime": {
     "end_time": "2025-05-09T16:33:21.526399Z",
     "start_time": "2025-05-09T16:33:03.365307Z"
    }
   },
   "cell_type": "code",
   "source": [
    "from transformers import DataCollatorWithPadding\n",
    "def preprocess_function(examples):\n",
    "    return tokenizer(\n",
    "        examples[\"text\"], \n",
    "        truncation=True,  \n",
    "        padding=\"max_length\",  \n",
    "        max_length=512  \n",
    "    )\n",
    "\n",
    "tokenized_data=dataset_dict.map(preprocess_function,batched=True)\n",
    "tokenized_data = tokenized_data.remove_columns([\"__index_level_0__\", \"date\", \"text\", \"title\", \"subject\"])\n",
    "data_colator= DataCollatorWithPadding(tokenizer=tokenizer)"
   ],
   "id": "146eeb8b0586180c",
   "outputs": [
    {
     "name": "stderr",
     "output_type": "stream",
     "text": [
      "Map: 100%|██████████| 31282/31282 [00:12<00:00, 2581.64 examples/s]\n",
      "Map: 100%|██████████| 6703/6703 [00:02<00:00, 2368.93 examples/s]\n",
      "Map: 100%|██████████| 6704/6704 [00:03<00:00, 2204.82 examples/s]\n"
     ]
    }
   ],
   "execution_count": 9
  },
  {
   "metadata": {
    "ExecuteTime": {
     "end_time": "2025-05-09T16:33:23.669150Z",
     "start_time": "2025-05-09T16:33:21.559397Z"
    }
   },
   "cell_type": "code",
   "source": [
    "import evaluate\n",
    "import numpy as np\n",
    "# load metrics\n",
    "accuracy = evaluate.load(\"accuracy\")\n",
    "auc_score = evaluate.load(\"roc_auc\")\n",
    "\n",
    "def compute_metrics(eval_pred):\n",
    "    # get predictions\n",
    "    predictions, labels = eval_pred\n",
    "\n",
    "    # apply softmax to get probabilities\n",
    "    probabilities = np.exp(predictions) / np.exp(predictions).sum(-1, keepdims=True)\n",
    "\n",
    "    # use probabilities of the positive class for ROC AUC\n",
    "    positive_class_probs = probabilities[:, 1]\n",
    "\n",
    "    # compute auc\n",
    "    auc = np.round(auc_score.compute(prediction_scores=positive_class_probs, references=labels)['roc_auc'], 3)\n",
    "\n",
    "    # predict most probable class\n",
    "    predicted_classes = np.argmax(predictions, axis=1)\n",
    "\n",
    "    # compute accuracy\n",
    "    acc = np.round(accuracy.compute(predictions=predicted_classes, references=labels)['accuracy'], 3)\n",
    "\n",
    "    return {\"Accuracy\": acc, \"AUC\": auc}"
   ],
   "id": "a71fdfacaeab50cf",
   "outputs": [],
   "execution_count": 10
  },
  {
   "metadata": {
    "ExecuteTime": {
     "end_time": "2025-05-09T16:33:24.970019Z",
     "start_time": "2025-05-09T16:33:23.701544Z"
    }
   },
   "cell_type": "code",
   "source": [
    "from transformers import TrainingArguments\n",
    "training_args = TrainingArguments(\n",
    "    output_dir=\"bert_training_final\",\n",
    "    learning_rate=2e-5,\n",
    "    per_device_train_batch_size=8,\n",
    "    per_device_eval_batch_size=8,\n",
    "    num_train_epochs=5,\n",
    "    weight_decay=0.01,\n",
    "    warmup_steps=500,\n",
    "    evaluation_strategy=\"epoch\",\n",
    "    save_strategy=\"epoch\",\n",
    "    load_best_model_at_end=True,\n",
    "    logging_steps=400,\n",
    "    logging_dir=\"./logs\",\n",
    "    report_to=\"none\" \n",
    ")"
   ],
   "id": "5e222d311dbfbe7a",
   "outputs": [],
   "execution_count": 11
  },
  {
   "metadata": {
    "ExecuteTime": {
     "end_time": "2025-05-09T16:33:25.032021Z",
     "start_time": "2025-05-09T16:33:25.018020Z"
    }
   },
   "cell_type": "code",
   "source": [
    "import torch\n",
    "print(torch.cuda.get_device_name(0))  # If no GPU, this will raise an error\n"
   ],
   "id": "9316f8e8a4ff7c72",
   "outputs": [
    {
     "name": "stdout",
     "output_type": "stream",
     "text": [
      "NVIDIA GeForce RTX 3050 Laptop GPU\n"
     ]
    }
   ],
   "execution_count": 12
  },
  {
   "metadata": {
    "ExecuteTime": {
     "end_time": "2025-05-09T18:39:01.214770Z",
     "start_time": "2025-05-09T16:33:25.080019Z"
    }
   },
   "cell_type": "code",
   "source": [
    "from transformers import Trainer\n",
    "from transformers import EarlyStoppingCallback\n",
    "import torch\n",
    "\n",
    "early_stopping = EarlyStoppingCallback(\n",
    "    early_stopping_patience=2\n",
    ")\n",
    "model.to(torch.device(\"cuda\" if torch.cuda.is_available() else \"cpu\"))\n",
    "trainer=Trainer(\n",
    "    model=model,\n",
    "    args=training_args,\n",
    "    train_dataset=tokenized_data[\"train\"],\n",
    "    eval_dataset=tokenized_data[\"test\"],\n",
    "    tokenizer=tokenizer,\n",
    "    data_collator=data_colator,\n",
    "    compute_metrics=compute_metrics,\n",
    "    callbacks=[early_stopping],\n",
    "    \n",
    ")\n",
    "\n",
    "trainer.train()"
   ],
   "id": "d03fe101ab8d1d53",
   "outputs": [
    {
     "data": {
      "text/plain": [
       "<IPython.core.display.HTML object>"
      ],
      "text/html": [
       "\n",
       "    <div>\n",
       "      \n",
       "      <progress value='19555' max='19555' style='width:300px; height:20px; vertical-align: middle;'></progress>\n",
       "      [19555/19555 2:05:34, Epoch 5/5]\n",
       "    </div>\n",
       "    <table border=\"1\" class=\"dataframe\">\n",
       "  <thead>\n",
       " <tr style=\"text-align: left;\">\n",
       "      <th>Epoch</th>\n",
       "      <th>Training Loss</th>\n",
       "      <th>Validation Loss</th>\n",
       "      <th>Accuracy</th>\n",
       "      <th>Auc</th>\n",
       "    </tr>\n",
       "  </thead>\n",
       "  <tbody>\n",
       "    <tr>\n",
       "      <td>1</td>\n",
       "      <td>0.109500</td>\n",
       "      <td>0.094076</td>\n",
       "      <td>0.971000</td>\n",
       "      <td>0.994000</td>\n",
       "    </tr>\n",
       "    <tr>\n",
       "      <td>2</td>\n",
       "      <td>0.094600</td>\n",
       "      <td>0.072883</td>\n",
       "      <td>0.979000</td>\n",
       "      <td>0.996000</td>\n",
       "    </tr>\n",
       "    <tr>\n",
       "      <td>3</td>\n",
       "      <td>0.067800</td>\n",
       "      <td>0.074067</td>\n",
       "      <td>0.977000</td>\n",
       "      <td>0.997000</td>\n",
       "    </tr>\n",
       "    <tr>\n",
       "      <td>4</td>\n",
       "      <td>0.077400</td>\n",
       "      <td>0.066433</td>\n",
       "      <td>0.981000</td>\n",
       "      <td>0.997000</td>\n",
       "    </tr>\n",
       "    <tr>\n",
       "      <td>5</td>\n",
       "      <td>0.074800</td>\n",
       "      <td>0.067674</td>\n",
       "      <td>0.979000</td>\n",
       "      <td>0.997000</td>\n",
       "    </tr>\n",
       "  </tbody>\n",
       "</table><p>"
      ]
     },
     "metadata": {},
     "output_type": "display_data"
    },
    {
     "data": {
      "text/plain": [
       "TrainOutput(global_step=19555, training_loss=0.09732038146301597, metrics={'train_runtime': 7534.907, 'train_samples_per_second': 20.758, 'train_steps_per_second': 2.595, 'total_flos': 4.11532001688576e+16, 'train_loss': 0.09732038146301597, 'epoch': 5.0})"
      ]
     },
     "execution_count": 13,
     "metadata": {},
     "output_type": "execute_result"
    }
   ],
   "execution_count": 13
  },
  {
   "metadata": {
    "ExecuteTime": {
     "end_time": "2025-05-09T18:48:39.227247Z",
     "start_time": "2025-05-09T18:44:29.213560Z"
    }
   },
   "cell_type": "code",
   "source": [
    "predictions=trainer.predict(tokenized_data[\"validation\"])\n",
    "\n",
    "logits=predictions.predictions\n",
    "labels=predictions.label_ids\n",
    "metrics=compute_metrics((logits,labels))\n",
    "print(metrics)"
   ],
   "id": "84fb787b25f1646d",
   "outputs": [
    {
     "data": {
      "text/plain": [
       "<IPython.core.display.HTML object>"
      ],
      "text/html": []
     },
     "metadata": {},
     "output_type": "display_data"
    },
    {
     "name": "stdout",
     "output_type": "stream",
     "text": [
      "{'Accuracy': np.float64(0.981), 'AUC': np.float64(0.998)}\n"
     ]
    }
   ],
   "execution_count": 17
  },
  {
   "metadata": {
    "ExecuteTime": {
     "end_time": "2025-05-09T18:43:10.894569Z",
     "start_time": "2025-05-09T18:43:10.444467Z"
    }
   },
   "cell_type": "code",
   "source": [
    "model.save_pretrained(\"./bert_fake_news_model_final\")\n",
    "tokenizer.save_pretrained(\"./bert_fake_news_model_final\")\n"
   ],
   "id": "4a22fd5fe7994232",
   "outputs": [
    {
     "data": {
      "text/plain": [
       "('./bert_fake_news_model_final\\\\tokenizer_config.json',\n",
       " './bert_fake_news_model_final\\\\special_tokens_map.json',\n",
       " './bert_fake_news_model_final\\\\vocab.txt',\n",
       " './bert_fake_news_model_final\\\\added_tokens.json',\n",
       " './bert_fake_news_model_final\\\\tokenizer.json')"
      ]
     },
     "execution_count": 15,
     "metadata": {},
     "output_type": "execute_result"
    }
   ],
   "execution_count": 15
  },
  {
   "metadata": {
    "ExecuteTime": {
     "end_time": "2025-05-09T18:43:11.239945Z",
     "start_time": "2025-05-09T18:43:10.957279Z"
    }
   },
   "cell_type": "code",
   "source": "dataset_dict.save_to_disk(\"./my_news_dataset_final\")",
   "id": "78b870dd3bdef60a",
   "outputs": [
    {
     "name": "stderr",
     "output_type": "stream",
     "text": [
      "Saving the dataset (1/1 shards): 100%|██████████| 31282/31282 [00:00<00:00, 179104.49 examples/s]\n",
      "Saving the dataset (1/1 shards): 100%|██████████| 6703/6703 [00:00<00:00, 165583.48 examples/s]\n",
      "Saving the dataset (1/1 shards): 100%|██████████| 6704/6704 [00:00<00:00, 162235.25 examples/s]\n"
     ]
    }
   ],
   "execution_count": 16
  }
 ],
 "metadata": {
  "kernelspec": {
   "display_name": "Python 3",
   "language": "python",
   "name": "python3"
  },
  "language_info": {
   "codemirror_mode": {
    "name": "ipython",
    "version": 2
   },
   "file_extension": ".py",
   "mimetype": "text/x-python",
   "name": "python",
   "nbconvert_exporter": "python",
   "pygments_lexer": "ipython2",
   "version": "2.7.6"
  }
 },
 "nbformat": 4,
 "nbformat_minor": 5
}
