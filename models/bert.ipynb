{
 "cells": [
  {
   "metadata": {
    "ExecuteTime": {
     "end_time": "2025-06-08T11:13:20.697529Z",
     "start_time": "2025-06-08T11:13:19.016856Z"
    }
   },
   "cell_type": "code",
   "source": [
    "import torch\n",
    "\n",
    "\n",
    "if torch.cuda.is_available():\n",
    "\n",
    "    device = torch.device(\"cuda\")\n",
    "\n",
    "    print('There are %d GPU(s) available.' % torch.cuda.device_count())\n",
    "\n",
    "    print('We will use the GPU:', torch.cuda.get_device_name(0))\n",
    "\n",
    "else:\n",
    "    print('No GPU available, using the CPU instead.')\n",
    "    device = torch.device(\"cpu\")"
   ],
   "id": "17174f329ddc2e82",
   "outputs": [
    {
     "name": "stdout",
     "output_type": "stream",
     "text": [
      "There are 1 GPU(s) available.\n",
      "We will use the GPU: NVIDIA GeForce RTX 3050 Laptop GPU\n"
     ]
    }
   ],
   "execution_count": 1
  },
  {
   "metadata": {
    "ExecuteTime": {
     "end_time": "2025-06-08T11:13:20.790694Z",
     "start_time": "2025-06-08T11:13:20.772581Z"
    }
   },
   "cell_type": "code",
   "source": [
    "import re\n",
    "\n",
    "city_newsletter_re=re.compile(r'([A-Za-z\\s]+)?\\/?([A-Z\\s]+)?(,?\\s[A-za-z]+.+\\s)?\\(Reuters\\)')\n",
    "html_re=re.compile(r'<[^>]+>|&amp;|&lt;|&gt;|&nbsp;')\n",
    "links_re=re.compile(r'http[s]?:\\/\\/\\S+')\n",
    "date_re=re.compile(r'(\\b(January|February|March|April|May|June|July|August|September|October|November|December)\\b\\s\\d{1,2},\\s\\d{4})',re.IGNORECASE)\n",
    "username_re=re.compile(r'@\\w+')\n",
    "image_reference=re.compile(r'(Featured|Photo\\sby|Image)[\\w\\/\\s]+',re.IGNORECASE)\n",
    "hashtag=re.compile(r'#\\w+')\n",
    "\n",
    "def preprocess_data_fake_news(text):\n",
    "    text=date_re.sub('[DATE]',text)\n",
    "    text=image_reference.sub(' ',text)\n",
    "    text=html_re.sub(' ',text)\n",
    "    text=username_re.sub('[USERNAME]',text)\n",
    "    text=links_re.sub('[LINK]',text)\n",
    "    text=hashtag.sub('[HASHTAG]',text)\n",
    "    text=re.sub(r'\\s+', ' ', text)\n",
    "    return text\n",
    "\n",
    "def preprocess_data_true_news(text):\n",
    "    text=city_newsletter_re.sub(' ',text, count=1)\n",
    "    text=re.sub(r'\\s+', ' ', text)\n",
    "    return text"
   ],
   "id": "b176f276109811cb",
   "outputs": [],
   "execution_count": 2
  },
  {
   "metadata": {
    "ExecuteTime": {
     "end_time": "2025-06-08T11:13:22.096119Z",
     "start_time": "2025-06-08T11:13:21.094735Z"
    }
   },
   "cell_type": "code",
   "source": [
    "import pandas as pd\n",
    "from tqdm import tqdm\n",
    "\n",
    "tqdm.pandas()\n",
    "\n",
    "df_fake= pd.read_csv(\"../data/Fake.csv\")\n",
    "df_true= pd.read_csv(\"../data/True.csv\")\n",
    "\n",
    "df_fake[\"label\"] = 0\n",
    "df_true[\"label\"] = 1"
   ],
   "id": "d5065490da77aeb8",
   "outputs": [],
   "execution_count": 3
  },
  {
   "metadata": {
    "ExecuteTime": {
     "end_time": "2025-06-08T11:19:34.141939Z",
     "start_time": "2025-06-08T11:13:22.112119Z"
    }
   },
   "cell_type": "code",
   "source": [
    "df_fake['text'] = df_fake['text'].progress_apply(preprocess_data_fake_news)\n",
    "df_true['text'] = df_true['text'].progress_apply(preprocess_data_true_news)"
   ],
   "id": "d52887e76376cfe6",
   "outputs": [
    {
     "name": "stderr",
     "output_type": "stream",
     "text": [
      "100%|██████████| 23481/23481 [00:07<00:00, 3204.10it/s]\n",
      "100%|██████████| 21417/21417 [06:04<00:00, 58.73it/s]  \n"
     ]
    }
   ],
   "execution_count": 4
  },
  {
   "metadata": {
    "ExecuteTime": {
     "end_time": "2025-06-08T11:19:36.364175Z",
     "start_time": "2025-06-08T11:19:34.159130Z"
    }
   },
   "cell_type": "code",
   "source": [
    "import pandas as pd\n",
    "from datasets import DatasetDict, Dataset\n",
    "\n",
    "frames=[df_true,df_fake]\n",
    "df=pd.concat(frames)\n",
    "shuffled_df = df.sample(frac=1).reset_index(drop=True)\n",
    "shuffled_df = shuffled_df.drop_duplicates()\n",
    "shuffled_selected = shuffled_df[['text', 'label']]\n",
    "\n",
    "news_text=shuffled_selected\n",
    "train_frac = 0.7\n",
    "valid_frac = 0.15\n",
    "test_frac = 0.15\n",
    "#\n",
    "train_size = int(train_frac * len(news_text))\n",
    "valid_size = int(valid_frac * len(news_text))\n",
    "#\n",
    "# create train, validation, and test datasets\n",
    "train_df = news_text[:train_size]\n",
    "valid_df = news_text[train_size:train_size + valid_size]\n",
    "test_df = news_text[train_size + valid_size:]\n",
    "#\n",
    "train_ds = Dataset.from_pandas(train_df)\n",
    "valid_ds = Dataset.from_pandas(valid_df)\n",
    "test_ds = Dataset.from_pandas(test_df)\n",
    "dataset_dict = DatasetDict({\n",
    "    'train': train_ds,\n",
    "    'validation': valid_ds,\n",
    "    'test': test_ds\n",
    "})\n",
    "\n",
    "\n",
    "print(dataset_dict)"
   ],
   "id": "1dc704880ed0903c",
   "outputs": [
    {
     "name": "stdout",
     "output_type": "stream",
     "text": [
      "DatasetDict({\n",
      "    train: Dataset({\n",
      "        features: ['text', 'label', '__index_level_0__'],\n",
      "        num_rows: 31280\n",
      "    })\n",
      "    validation: Dataset({\n",
      "        features: ['text', 'label', '__index_level_0__'],\n",
      "        num_rows: 6703\n",
      "    })\n",
      "    test: Dataset({\n",
      "        features: ['text', 'label', '__index_level_0__'],\n",
      "        num_rows: 6704\n",
      "    })\n",
      "})\n"
     ]
    }
   ],
   "execution_count": 5
  },
  {
   "metadata": {
    "ExecuteTime": {
     "end_time": "2025-06-08T11:19:39.590534Z",
     "start_time": "2025-06-08T11:19:36.398177Z"
    }
   },
   "cell_type": "code",
   "source": [
    "from transformers import AutoTokenizer, AutoModelForSequenceClassification\n",
    "model_path=\"google-bert/bert-base-uncased\"\n",
    "#incarcam tokenizatorul\n",
    "tokenizer=AutoTokenizer.from_pretrained(model_path)\n",
    "#stabil id-urile pentru ca atunci cand primim rezultate de la clasificator acestea sa nu vina sub forma unor probabilitati si sa nu stim carei probabilitate ii vine id ul\n",
    "id2label={0:\"fake\",1:\"true\"}\n",
    "label2id={\"fake\":0,\"true\":1}\n",
    "#incarcam modelul preantrenat\n",
    "model=AutoModelForSequenceClassification.from_pretrained(model_path,num_labels=2,id2label=id2label,label2id=label2id)"
   ],
   "id": "60e7093d839c85b9",
   "outputs": [
    {
     "name": "stderr",
     "output_type": "stream",
     "text": [
      "D:\\github\\AI-examples\\AI_examples\\.venv\\lib\\site-packages\\huggingface_hub\\file_download.py:896: FutureWarning: `resume_download` is deprecated and will be removed in version 1.0.0. Downloads always resume when possible. If you want to force a new download, use `force_download=True`.\n",
      "  warnings.warn(\n",
      "Some weights of BertForSequenceClassification were not initialized from the model checkpoint at google-bert/bert-base-uncased and are newly initialized: ['classifier.bias', 'classifier.weight']\n",
      "You should probably TRAIN this model on a down-stream task to be able to use it for predictions and inference.\n"
     ]
    }
   ],
   "execution_count": 6
  },
  {
   "metadata": {
    "ExecuteTime": {
     "end_time": "2025-06-08T11:19:39.638502Z",
     "start_time": "2025-06-08T11:19:39.624505Z"
    }
   },
   "cell_type": "code",
   "source": [
    "#inghetam parametrii de pe celelalte layere si ii pastram doar pe cei de pe layerul \n",
    "for name,param in model.base_model.named_parameters():\n",
    "    param.requires_grad=False\n",
    "for name,param in model.base_model.named_parameters():\n",
    "    if \"pooler\" in name:\n",
    "        param.requires_grad=True"
   ],
   "id": "60a6ae5c38430924",
   "outputs": [],
   "execution_count": 7
  },
  {
   "metadata": {
    "ExecuteTime": {
     "end_time": "2025-06-08T11:20:01.854980Z",
     "start_time": "2025-06-08T11:19:39.686688Z"
    }
   },
   "cell_type": "code",
   "source": [
    "from transformers import DataCollatorWithPadding\n",
    "def preprocess_function(examples):\n",
    "    return tokenizer(\n",
    "        examples[\"text\"], \n",
    "        truncation=True,  \n",
    "        padding=\"max_length\",  \n",
    "        max_length=512  \n",
    "    )\n",
    "\n",
    "tokenized_data=dataset_dict.map(preprocess_function,batched=True)\n",
    "data_colator= DataCollatorWithPadding(tokenizer=tokenizer)"
   ],
   "id": "146eeb8b0586180c",
   "outputs": [
    {
     "data": {
      "text/plain": [
       "Map:   0%|          | 0/31280 [00:00<?, ? examples/s]"
      ],
      "application/vnd.jupyter.widget-view+json": {
       "version_major": 2,
       "version_minor": 0,
       "model_id": "bb23eade24a54363a79d9a63ddf042f4"
      }
     },
     "metadata": {},
     "output_type": "display_data"
    },
    {
     "data": {
      "text/plain": [
       "Map:   0%|          | 0/6703 [00:00<?, ? examples/s]"
      ],
      "application/vnd.jupyter.widget-view+json": {
       "version_major": 2,
       "version_minor": 0,
       "model_id": "edd2f9efa639474abccb797c35454fe0"
      }
     },
     "metadata": {},
     "output_type": "display_data"
    },
    {
     "data": {
      "text/plain": [
       "Map:   0%|          | 0/6704 [00:00<?, ? examples/s]"
      ],
      "application/vnd.jupyter.widget-view+json": {
       "version_major": 2,
       "version_minor": 0,
       "model_id": "00a4a11fb33847bca1e43fbe2824ae22"
      }
     },
     "metadata": {},
     "output_type": "display_data"
    }
   ],
   "execution_count": 8
  },
  {
   "metadata": {
    "ExecuteTime": {
     "end_time": "2025-06-08T11:20:04.411987Z",
     "start_time": "2025-06-08T11:20:01.887981Z"
    }
   },
   "cell_type": "code",
   "source": [
    "import evaluate\n",
    "import numpy as np\n",
    "# load metrics\n",
    "accuracy = evaluate.load(\"accuracy\")\n",
    "auc_score = evaluate.load(\"roc_auc\")\n",
    "\n",
    "def compute_metrics(eval_pred):\n",
    "    # get predictions\n",
    "    predictions, labels = eval_pred\n",
    "\n",
    "    # apply softmax to get probabilities\n",
    "    probabilities = np.exp(predictions) / np.exp(predictions).sum(-1, keepdims=True)\n",
    "\n",
    "    # use probabilities of the positive class for ROC AUC\n",
    "    positive_class_probs = probabilities[:, 1]\n",
    "\n",
    "    # compute auc\n",
    "    auc = np.round(auc_score.compute(prediction_scores=positive_class_probs, references=labels)['roc_auc'], 3)\n",
    "\n",
    "    # predict most probable class\n",
    "    predicted_classes = np.argmax(predictions, axis=1)\n",
    "\n",
    "    # compute accuracy\n",
    "    acc = np.round(accuracy.compute(predictions=predicted_classes, references=labels)['accuracy'], 3)\n",
    "\n",
    "    return {\"Accuracy\": acc, \"AUC\": auc}"
   ],
   "id": "a71fdfacaeab50cf",
   "outputs": [],
   "execution_count": 9
  },
  {
   "metadata": {
    "ExecuteTime": {
     "end_time": "2025-06-08T11:20:04.508056Z",
     "start_time": "2025-06-08T11:20:04.445058Z"
    }
   },
   "cell_type": "code",
   "source": [
    "from transformers import TrainingArguments\n",
    "training_args = TrainingArguments(\n",
    "    output_dir=\"bert_training_model_fake_news_detection\",\n",
    "    learning_rate=2e-5,\n",
    "    per_device_train_batch_size=8,\n",
    "    per_device_eval_batch_size=8,\n",
    "    num_train_epochs=5,\n",
    "    weight_decay=0.01,\n",
    "    warmup_steps=500,\n",
    "    evaluation_strategy=\"epoch\",\n",
    "    save_strategy=\"epoch\",\n",
    "    load_best_model_at_end=True,\n",
    "    logging_steps=400,\n",
    "    logging_dir=\"./logs\",\n",
    "    report_to=\"none\" \n",
    ")"
   ],
   "id": "5e222d311dbfbe7a",
   "outputs": [],
   "execution_count": 10
  },
  {
   "metadata": {
    "ExecuteTime": {
     "end_time": "2025-06-08T11:20:04.684056Z",
     "start_time": "2025-06-08T11:20:04.669058Z"
    }
   },
   "cell_type": "code",
   "source": [
    "import torch\n",
    "print(torch.cuda.get_device_name(0))  # If no GPU, this will raise an error\n"
   ],
   "id": "9316f8e8a4ff7c72",
   "outputs": [
    {
     "name": "stdout",
     "output_type": "stream",
     "text": [
      "NVIDIA GeForce RTX 3050 Laptop GPU\n"
     ]
    }
   ],
   "execution_count": 11
  },
  {
   "metadata": {
    "ExecuteTime": {
     "end_time": "2025-06-08T13:25:52.809749Z",
     "start_time": "2025-06-08T11:20:04.732060Z"
    }
   },
   "cell_type": "code",
   "source": [
    "from transformers import Trainer\n",
    "from transformers import EarlyStoppingCallback\n",
    "import torch\n",
    "\n",
    "early_stopping = EarlyStoppingCallback(\n",
    "    early_stopping_patience=2\n",
    ")\n",
    "model.to(torch.device(\"cuda\" if torch.cuda.is_available() else \"cpu\"))\n",
    "trainer=Trainer(\n",
    "    model=model,\n",
    "    args=training_args,\n",
    "    train_dataset=tokenized_data[\"train\"],\n",
    "    eval_dataset=tokenized_data[\"validation\"],\n",
    "    tokenizer=tokenizer,\n",
    "    data_collator=data_colator,\n",
    "    compute_metrics=compute_metrics,\n",
    "    callbacks=[early_stopping],\n",
    "    \n",
    ")\n",
    "\n",
    "trainer.train()"
   ],
   "id": "d03fe101ab8d1d53",
   "outputs": [
    {
     "data": {
      "text/plain": [
       "<IPython.core.display.HTML object>"
      ],
      "text/html": [
       "\n",
       "    <div>\n",
       "      \n",
       "      <progress value='19550' max='19550' style='width:300px; height:20px; vertical-align: middle;'></progress>\n",
       "      [19550/19550 2:05:45, Epoch 5/5]\n",
       "    </div>\n",
       "    <table border=\"1\" class=\"dataframe\">\n",
       "  <thead>\n",
       " <tr style=\"text-align: left;\">\n",
       "      <th>Epoch</th>\n",
       "      <th>Training Loss</th>\n",
       "      <th>Validation Loss</th>\n",
       "      <th>Accuracy</th>\n",
       "      <th>Auc</th>\n",
       "    </tr>\n",
       "  </thead>\n",
       "  <tbody>\n",
       "    <tr>\n",
       "      <td>1</td>\n",
       "      <td>0.090000</td>\n",
       "      <td>0.091879</td>\n",
       "      <td>0.971000</td>\n",
       "      <td>0.994000</td>\n",
       "    </tr>\n",
       "    <tr>\n",
       "      <td>2</td>\n",
       "      <td>0.060700</td>\n",
       "      <td>0.075503</td>\n",
       "      <td>0.978000</td>\n",
       "      <td>0.997000</td>\n",
       "    </tr>\n",
       "    <tr>\n",
       "      <td>3</td>\n",
       "      <td>0.064600</td>\n",
       "      <td>0.063877</td>\n",
       "      <td>0.982000</td>\n",
       "      <td>0.998000</td>\n",
       "    </tr>\n",
       "    <tr>\n",
       "      <td>4</td>\n",
       "      <td>0.060700</td>\n",
       "      <td>0.062288</td>\n",
       "      <td>0.981000</td>\n",
       "      <td>0.998000</td>\n",
       "    </tr>\n",
       "    <tr>\n",
       "      <td>5</td>\n",
       "      <td>0.064700</td>\n",
       "      <td>0.058946</td>\n",
       "      <td>0.983000</td>\n",
       "      <td>0.998000</td>\n",
       "    </tr>\n",
       "  </tbody>\n",
       "</table><p>"
      ]
     },
     "metadata": {},
     "output_type": "display_data"
    },
    {
     "data": {
      "text/plain": [
       "TrainOutput(global_step=19550, training_loss=0.0880912381730726, metrics={'train_runtime': 7546.7169, 'train_samples_per_second': 20.724, 'train_steps_per_second': 2.591, 'total_flos': 4.1150569058304e+16, 'train_loss': 0.0880912381730726, 'epoch': 5.0})"
      ]
     },
     "execution_count": 12,
     "metadata": {},
     "output_type": "execute_result"
    }
   ],
   "execution_count": 12
  },
  {
   "metadata": {
    "ExecuteTime": {
     "end_time": "2025-06-08T13:30:03.211396Z",
     "start_time": "2025-06-08T13:25:53.066216Z"
    }
   },
   "cell_type": "code",
   "source": [
    "predictions=trainer.predict(tokenized_data[\"test\"])\n",
    "\n",
    "logits=predictions.predictions\n",
    "labels=predictions.label_ids\n",
    "metrics=compute_metrics((logits,labels))\n",
    "print(metrics)"
   ],
   "id": "84fb787b25f1646d",
   "outputs": [
    {
     "data": {
      "text/plain": [
       "<IPython.core.display.HTML object>"
      ],
      "text/html": []
     },
     "metadata": {},
     "output_type": "display_data"
    },
    {
     "name": "stdout",
     "output_type": "stream",
     "text": [
      "{'Accuracy': np.float64(0.981), 'AUC': np.float64(0.998)}\n"
     ]
    }
   ],
   "execution_count": 13
  },
  {
   "metadata": {
    "ExecuteTime": {
     "end_time": "2025-06-08T13:30:03.855911Z",
     "start_time": "2025-06-08T13:30:03.288648Z"
    }
   },
   "cell_type": "code",
   "source": [
    "model.save_pretrained(\"./bert_model_final_fake_news_detection\")\n",
    "tokenizer.save_pretrained(\"./bert_model_final_fake_news_detection\")\n"
   ],
   "id": "4a22fd5fe7994232",
   "outputs": [
    {
     "data": {
      "text/plain": [
       "('./bert_model_final_fake_news_detection\\\\tokenizer_config.json',\n",
       " './bert_model_final_fake_news_detection\\\\special_tokens_map.json',\n",
       " './bert_model_final_fake_news_detection\\\\vocab.txt',\n",
       " './bert_model_final_fake_news_detection\\\\added_tokens.json',\n",
       " './bert_model_final_fake_news_detection\\\\tokenizer.json')"
      ]
     },
     "execution_count": 14,
     "metadata": {},
     "output_type": "execute_result"
    }
   ],
   "execution_count": 14
  },
  {
   "metadata": {
    "ExecuteTime": {
     "end_time": "2025-06-08T13:30:04.250912Z",
     "start_time": "2025-06-08T13:30:03.936913Z"
    }
   },
   "cell_type": "code",
   "source": "dataset_dict.save_to_disk(\"./my_news_dataset_final_fake_news_detection\")",
   "id": "78b870dd3bdef60a",
   "outputs": [
    {
     "data": {
      "text/plain": [
       "Saving the dataset (0/1 shards):   0%|          | 0/31280 [00:00<?, ? examples/s]"
      ],
      "application/vnd.jupyter.widget-view+json": {
       "version_major": 2,
       "version_minor": 0,
       "model_id": "aa19495e8f214bf3a3e238a8c4576deb"
      }
     },
     "metadata": {},
     "output_type": "display_data"
    },
    {
     "data": {
      "text/plain": [
       "Saving the dataset (0/1 shards):   0%|          | 0/6703 [00:00<?, ? examples/s]"
      ],
      "application/vnd.jupyter.widget-view+json": {
       "version_major": 2,
       "version_minor": 0,
       "model_id": "d87aee5ebe434692badcfd3af84e61ee"
      }
     },
     "metadata": {},
     "output_type": "display_data"
    },
    {
     "data": {
      "text/plain": [
       "Saving the dataset (0/1 shards):   0%|          | 0/6704 [00:00<?, ? examples/s]"
      ],
      "application/vnd.jupyter.widget-view+json": {
       "version_major": 2,
       "version_minor": 0,
       "model_id": "2826070cf4914d60a763fb6cdb81b4b7"
      }
     },
     "metadata": {},
     "output_type": "display_data"
    }
   ],
   "execution_count": 15
  },
  {
   "metadata": {
    "ExecuteTime": {
     "end_time": "2025-06-08T13:30:04.736913Z",
     "start_time": "2025-06-08T13:30:04.330913Z"
    }
   },
   "cell_type": "code",
   "source": [
    "import numpy as np\n",
    "from sklearn.metrics import confusion_matrix\n",
    "import matplotlib.pyplot as plt\n",
    "import seaborn as sns\n",
    "\n",
    "y_true = labels\n",
    "y_pred = np.argmax(logits, axis=1)\n",
    "\n",
    "cm = confusion_matrix(y_true, y_pred)\n",
    "class_labels = np.unique(y_true)\n",
    "\n",
    "\n",
    "plt.figure(figsize=(8, 6))\n",
    "sns.heatmap(cm, annot=True, fmt='d', cmap='Blues',\n",
    "            xticklabels=class_labels, yticklabels=class_labels)\n",
    "plt.title('Matricea de confuzie-BERT')\n",
    "plt.xlabel('Label PREZIS')\n",
    "plt.ylabel('Label REAL')\n",
    "plt.show()\n"
   ],
   "id": "d68d98018ba63fff",
   "outputs": [
    {
     "data": {
      "text/plain": [
       "<Figure size 800x600 with 2 Axes>"
      ],
      "image/png": "[encoded data removed]"
     },
     "metadata": {},
     "output_type": "display_data"
    }
   ],
   "execution_count": 16
  }
 ],
 "metadata": {
  "kernelspec": {
   "display_name": "Python 3",
   "language": "python",
   "name": "python3"
  },
  "language_info": {
   "codemirror_mode": {
    "name": "ipython",
    "version": 2
   },
   "file_extension": ".py",
   "mimetype": "text/x-python",
   "name": "python",
   "nbconvert_exporter": "python",
   "pygments_lexer": "ipython2",
   "version": "2.7.6"
  }
 },
 "nbformat": 4,
 "nbformat_minor": 5
}
