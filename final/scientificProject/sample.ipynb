{
 "cells": [
  {
   "metadata": {},
   "cell_type": "markdown",
   "source": [
    "# This is a sample Jupyter Notebook\n",
    "\n",
    "Below is an example of a code cell. \n",
    "Put your cursor into the cell and press Shift+Enter to execute it and select the next one, or click 'Run Cell' button.\n",
    "\n",
    "Press Double Shift to search everywhere for classes, files, tool windows, actions, and settings.\n",
    "\n",
    "To learn more about Jupyter Notebooks in PyCharm, see [help](https://www.jetbrains.com/help/pycharm/ipython-notebook-support.html).\n",
    "For an overview of PyCharm, go to Help -> Learn IDE features or refer to [our documentation](https://www.jetbrains.com/help/pycharm/getting-started.html)."
   ],
   "id": "8a77807f92f26ee"
  },
  {
   "metadata": {
    "ExecuteTime": {
     "end_time": "2025-04-29T16:24:48.934549Z",
     "start_time": "2025-04-29T16:24:31.266610Z"
    }
   },
   "cell_type": "code",
   "source": [
    "import pandas as pd\n",
    "from sklearn.feature_extraction.text import CountVectorizer\n",
    "from sklearn.metrics.pairwise import cosine_similarity\n",
    "\n",
    "# 1. Citim fișierul CSV\n",
    "df = pd.read_csv(\"boli_simptome.csv\")\n",
    "\n",
    "# 2. Inițializăm CountVectorizer (eliminăm stopwords dacă avem)\n",
    "vectorizer = CountVectorizer()\n",
    "\n",
    "# 3. Transformăm simptomele în matrice BoW (Bag-of-Words)\n",
    "X = vectorizer.fit_transform(df[\"simptome\"])\n",
    "\n",
    "# 4. Funcție pentru a face predicția\n",
    "def identifica_boala(simptome_user):\n",
    "    simptome_user = [simptome_user.lower()]  # Normalizare la lowercase\n",
    "    vector_user = vectorizer.transform(simptome_user)  # Transformăm input-ul\n",
    "    similaritati = cosine_similarity(vector_user, X)  # Calculăm similaritatea cosine\n",
    "    \n",
    "    # Identificăm boala cu cea mai mare similaritate\n",
    "    idx = similaritati.argmax()\n",
    "    boala_probabila = df.iloc[idx][\"nume_boala\"]\n",
    "    \n",
    "    return boala_probabila, similaritati[0][idx]\n",
    "\n",
    "# 5. Extragere simptome de la utilizator\n",
    "simptome_input = input(\"Introdu simptomele (separate prin virgulă): \")\n",
    "boala, scor = identifica_boala(simptome_input)\n",
    "\n",
    "# 6. Afișăm rezultatul\n",
    "print(f\"\\n🔎 Cea mai probabilă boală: {boala}\")\n",
    "print(f\"📊 Scor de similaritate: {scor:.2f}\")\n",
    "\n"
   ],
   "id": "fbc121e30a2defb3",
   "outputs": [
    {
     "name": "stdout",
     "output_type": "stream",
     "text": [
      "\n",
      "🔎 Cea mai probabilă boală: Abcese hepatice\n",
      "📊 Scor de similaritate: 0.50\n"
     ]
    }
   ],
   "execution_count": 1
  }
 ],
 "metadata": {
  "kernelspec": {
   "display_name": "Python 3",
   "language": "python",
   "name": "python3"
  },
  "language_info": {
   "codemirror_mode": {
    "name": "ipython",
    "version": 2
   },
   "file_extension": ".py",
   "mimetype": "text/x-python",
   "name": "python",
   "nbconvert_exporter": "python",
   "pygments_lexer": "ipython2",
   "version": "2.7.6"
  }
 },
 "nbformat": 4,
 "nbformat_minor": 5
}
